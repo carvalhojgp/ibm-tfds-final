{
 "cells": [
  {
   "cell_type": "markdown",
   "id": "a74b64a3-72f0-44b3-99ea-895a0ac80fba",
   "metadata": {},
   "source": [
    "# Data Science Tools and Ecosystem"
   ]
  },
  {
   "cell_type": "markdown",
   "id": "eea1cc46-bc5a-4ebe-b538-aef3d816b551",
   "metadata": {},
   "source": [
    "In this notebook, Data Science Tools and Ecosystem are summarized."
   ]
  },
  {
   "cell_type": "markdown",
   "id": "1d963666-cc4d-438c-b18b-4c8d4d2438fc",
   "metadata": {
    "tags": []
   },
   "source": [
    "Some of the popular languages that Data Scientists use are:\n",
    "1. Python\n",
    "2. R\n",
    "3. SQL\n",
    "4. Julia"
   ]
  },
  {
   "cell_type": "markdown",
   "id": "4a620a53-93e9-476f-bcfd-71c1217d24e5",
   "metadata": {},
   "source": [
    "Some of the commonly used libraries used by Data Scientists include:\n",
    "1. Pandas (Python)\n",
    "2. Matplotlib (Python)\n",
    "3. Dplyr (R)\n",
    "4. ggplot2 (R)"
   ]
  },
  {
   "cell_type": "markdown",
   "id": "fab36f60-e766-4032-a0a7-d5df65cd147c",
   "metadata": {
    "tags": []
   },
   "source": [
    "|Data Science Tools|\n",
    "|---------|\n",
    "|Jupyter Lab|\n",
    "|R Studio|\n",
    "|Jupyter|\n",
    "|Apache Zeppelin|"
   ]
  },
  {
   "cell_type": "markdown",
   "id": "44181cbe-5635-4677-9c3e-8cbc380ee9ea",
   "metadata": {},
   "source": [
    "### Below are a few examples of evaluating arithmetic expressions in Python"
   ]
  },
  {
   "cell_type": "code",
   "execution_count": null,
   "id": "23a286f0-9c0f-41f9-9dac-69892988ae86",
   "metadata": {},
   "outputs": [],
   "source": []
  }
 ],
 "metadata": {
  "kernelspec": {
   "display_name": "Python",
   "language": "python",
   "name": "conda-env-python-py"
  },
  "language_info": {
   "codemirror_mode": {
    "name": "ipython",
    "version": 3
   },
   "file_extension": ".py",
   "mimetype": "text/x-python",
   "name": "python",
   "nbconvert_exporter": "python",
   "pygments_lexer": "ipython3",
   "version": "3.7.12"
  }
 },
 "nbformat": 4,
 "nbformat_minor": 5
}
